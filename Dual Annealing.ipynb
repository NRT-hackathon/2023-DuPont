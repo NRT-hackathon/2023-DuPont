{
 "cells": [
  {
   "cell_type": "markdown",
   "id": "f09cdb6e",
   "metadata": {},
   "source": [
    "### DuPont Mixture Design - Inverse Modeling\n",
    "\n",
    "## Alison Shapiro, Sean Farrington, and Peter Osazuwa\n",
    "\n",
    "***Machine Learning Techniques Used:*** \n",
    "\n",
    "Linear Regression\n",
    "\n",
    "Gaussian Process Regression"
   ]
  },
  {
   "cell_type": "markdown",
   "id": "ecba6cd2",
   "metadata": {},
   "source": [
    "## Script for Dual Annealing Optimization\n",
    "\n",
    "#### Utilize predictions from the Gaussian process regression\n",
    "\n",
    "Start by remaking the Gaussian process regression code"
   ]
  },
  {
   "cell_type": "markdown",
   "id": "bf080d15",
   "metadata": {},
   "source": [
    "# Gaussian Process Regression\n"
   ]
  },
  {
   "cell_type": "code",
   "execution_count": 1,
   "id": "e810d8f9",
   "metadata": {},
   "outputs": [],
   "source": [
    "# Suppress Warnings\n",
    "import warnings\n",
    "warnings.filterwarnings(\"ignore\",category=DeprecationWarning)\n",
    "\n",
    "import os\n",
    "import sys\n",
    "if not sys.warnoptions:\n",
    "    warnings.simplefilter(\"ignore\")\n",
    "    os.environ[\"PYTHONWARNINGS\"] = \"ignore\" "
   ]
  },
  {
   "cell_type": "markdown",
   "id": "cd180414",
   "metadata": {},
   "source": [
    "### Import new packages for GPR"
   ]
  },
  {
   "cell_type": "code",
   "execution_count": 2,
   "id": "ebbf62cf",
   "metadata": {},
   "outputs": [],
   "source": [
    "import pandas as pd\n",
    "import numpy as np\n",
    "from scipy.optimize import dual_annealing\n",
    "from sklearn.linear_model import LinearRegression\n",
    "from sklearn.gaussian_process import GaussianProcessRegressor\n",
    "from sklearn.gaussian_process.kernels import ConstantKernel as C, RBF, WhiteKernel\n",
    "from sklearn.model_selection import KFold\n",
    "from sklearn.metrics import mean_absolute_percentage_error as mape, r2_score\n",
    "import matplotlib.pyplot as plt"
   ]
  },
  {
   "cell_type": "markdown",
   "id": "bae8c777",
   "metadata": {},
   "source": [
    "### Import data"
   ]
  },
  {
   "cell_type": "code",
   "execution_count": 3,
   "id": "1a86c866",
   "metadata": {},
   "outputs": [],
   "source": [
    "file = 'DATA/training_inputs.xlsx'\n",
    "\n",
    "df = pd.read_excel(file)\n",
    "\n",
    "design = ['Powdered Additive','Base Resin A','Base Resin B','Stabilizer','Temperature','Screw Speed (RPM)']\n",
    "performance = ['Toughness (J/m2)','Modulus (GPa)']\n",
    "\n",
    "X = df[design]\n",
    "y = df[performance]\n",
    "\n",
    "from sklearn.preprocessing import StandardScaler\n",
    "scaler = StandardScaler()\n",
    "X = scaler.fit_transform(X)\n",
    "X = pd.DataFrame(data=X,\n",
    "                columns=design)\n",
    "# print(X)"
   ]
  },
  {
   "cell_type": "markdown",
   "id": "3e7e5894",
   "metadata": {},
   "source": [
    "### Create model \n",
    "\n",
    "***Need two separate models for each output***"
   ]
  },
  {
   "cell_type": "code",
   "execution_count": 4,
   "id": "02b7419b",
   "metadata": {},
   "outputs": [],
   "source": [
    "kernel = C() + RBF(length_scale=np.ones(X.shape[1]))\n",
    "\n",
    "# Split to two models\n",
    "reg_0 = GaussianProcessRegressor(kernel=kernel,random_state=1773).fit(X,y[performance[0]])\n",
    "reg_1 = GaussianProcessRegressor(kernel=kernel,random_state=1773).fit(X,y[performance[1]])\n",
    "\n",
    "y_pred_0 = reg_0.predict(X)\n",
    "y_pred_1 = reg_1.predict(X)\n",
    "y_pred_GPR = pd.DataFrame({performance[0]:y_pred_0,\n",
    "                       performance[1]:y_pred_1\n",
    "                       })"
   ]
  },
  {
   "cell_type": "markdown",
   "id": "1a44fcd0",
   "metadata": {},
   "source": [
    "# Particle Swarm Routine\n",
    "\n",
    "In this inverse model we will try to predict a data point from the testing set\n",
    "\n",
    "The values for this datum is as follows:\n",
    "\n",
    "- Powdered Additive: 0.32\n",
    "- Base Resin A: 0.6\n",
    "- Base Resin B: 0.05\n",
    "- Stabilizer: 0.09\n",
    "- Temperature: 406\n",
    "- Screw Speed (RPM): 120\n",
    "\n",
    "\n",
    "- Toughness (J/m2): 656\n",
    "- Modulus (GPa): 5.1"
   ]
  },
  {
   "cell_type": "code",
   "execution_count": 5,
   "id": "15ef8a2f",
   "metadata": {
    "scrolled": false
   },
   "outputs": [],
   "source": [
    "import pyswarms as ps\n",
    "from pyswarms.utils.plotters import (plot_cost_history, plot_contour, plot_surface)\n",
    "\n",
    "X_true = np.array([0.32,0.6,0.05,0.09,406,120])\n",
    "y_true = np.array([656,5.1])\n",
    "\n",
    "def CostFuncSlack(x,a,b):\n",
    "    \"\"\"\n",
    "    Input 'x' is an array of unscaled variables. For this function they are:\n",
    "    \n",
    "    x = ['Powdered Additive','Base Resin A','Base Resin B','Temperature','Screw Speed']\n",
    "    \n",
    "    Notice that 'Stabilizer' is removed from this array, this must be accounted for so \n",
    "    scaling is done properly.\n",
    "    \n",
    "    Use 'y_0_target' and 'y_1_target' to assign the desired performance\n",
    "    \n",
    "    The cost function uses the slack variable approach to reduce\n",
    "    dimensionality and ensure the composition is real.\n",
    "    \n",
    "    The barrier term here is a large penalty associated with the first three components \n",
    "    being greater than 1\n",
    "    \n",
    "    \"\"\"\n",
    "    y_0_target = a # Target toughness (J/m2)\n",
    "    y_1_target = b # Target Modulus (GPa)\n",
    "    \n",
    "    sum_noslack = x[0]+x[1]+x[2]\n",
    "    \n",
    "    slack = 1 - (sum_noslack)\n",
    "    \n",
    "    x_full = np.insert(x,3,slack) # Insert slack into the fourth position\n",
    "    \n",
    "    x_scaled = scaler.transform(x_full.reshape(1,-1))\n",
    "    \n",
    "    y_0,std_0 = reg_0.predict(x_scaled,return_std=True)\n",
    "    y_1,std_1 = reg_1.predict(x_scaled,return_std=True)\n",
    "    \n",
    "    var_0 = std_0**2/y_0_target # Normalized variance\n",
    "    var_1 = std_1**2/y_1_target # Normalized variance\n",
    "    \n",
    "    y_0_penalty = ((y_0-y_0_target)/y_0_target)**2\n",
    "    y_1_penalty = ((y_1-y_1_target)/y_1_target)**2\n",
    "    \n",
    "    barrier = 0\n",
    "    if sum_noslack >= 1:\n",
    "        barrier = 1e6\n",
    "            \n",
    "    loss = y_0_penalty + y_1_penalty + var_0 + var_1 + barrier\n",
    "    return loss"
   ]
  },
  {
   "cell_type": "markdown",
   "id": "e895ff33",
   "metadata": {},
   "source": [
    "# Dual annealing with slack variable"
   ]
  },
  {
   "cell_type": "code",
   "execution_count": 6,
   "id": "d467b9e0",
   "metadata": {
    "scrolled": true
   },
   "outputs": [
    {
     "name": "stdout",
     "output_type": "stream",
     "text": [
      "Best Cost = 0.0003122615739444157\n",
      "--- 47.560348987579346 seconds ---\n"
     ]
    }
   ],
   "source": [
    "import time\n",
    "start_time = time.time()\n",
    "\n",
    "# Set-up Bounds\n",
    "max_bound = [1,1,1,475,121]\n",
    "min_bound = [0,0,0,380,79]\n",
    "\n",
    "# Perform optimization\n",
    "ret = dual_annealing(CostFuncSlack,\n",
    "                    bounds=list(zip(min_bound,max_bound)),\n",
    "                    args = (y_true[0],y_true[1]),\n",
    "                    maxiter = 5_000,\n",
    "                    seed = 1743)\n",
    "\n",
    "# pos_unscaled = scaler.inverse_transform(pos.reshape(1,-1))\n",
    "print(f'Best Cost = {ret.fun}')\n",
    "print(\"--- %s seconds ---\" % (time.time() - start_time))"
   ]
  },
  {
   "cell_type": "code",
   "execution_count": 7,
   "id": "cf0eab75",
   "metadata": {},
   "outputs": [
    {
     "data": {
      "text/plain": [
       "     fun: 0.0003122615739444157\n",
       " message: ['Maximum number of iteration reached']\n",
       "    nfev: 124333\n",
       "    nhev: 0\n",
       "     nit: 5000\n",
       "    njev: 12388\n",
       "  status: 0\n",
       " success: True\n",
       "       x: array([3.08899822e-01, 4.48104419e-01, 1.81938709e-01, 4.14337642e+02,\n",
       "       8.66136936e+01])"
      ]
     },
     "execution_count": 7,
     "metadata": {},
     "output_type": "execute_result"
    }
   ],
   "source": [
    "ret"
   ]
  },
  {
   "cell_type": "code",
   "execution_count": 8,
   "id": "ef8f6497",
   "metadata": {},
   "outputs": [
    {
     "data": {
      "text/html": [
       "<div>\n",
       "<style scoped>\n",
       "    .dataframe tbody tr th:only-of-type {\n",
       "        vertical-align: middle;\n",
       "    }\n",
       "\n",
       "    .dataframe tbody tr th {\n",
       "        vertical-align: top;\n",
       "    }\n",
       "\n",
       "    .dataframe thead th {\n",
       "        text-align: right;\n",
       "    }\n",
       "</style>\n",
       "<table border=\"1\" class=\"dataframe\">\n",
       "  <thead>\n",
       "    <tr style=\"text-align: right;\">\n",
       "      <th></th>\n",
       "      <th>Powdered Additive</th>\n",
       "      <th>Base Resin A</th>\n",
       "      <th>Base Resin B</th>\n",
       "      <th>Stabilizer</th>\n",
       "      <th>Temperature</th>\n",
       "      <th>Screw Speed (RPM)</th>\n",
       "      <th>Sum Composition</th>\n",
       "    </tr>\n",
       "  </thead>\n",
       "  <tbody>\n",
       "    <tr>\n",
       "      <th>Inverse Design</th>\n",
       "      <td>0.308900</td>\n",
       "      <td>0.448104</td>\n",
       "      <td>0.181939</td>\n",
       "      <td>0.061057</td>\n",
       "      <td>414.337642</td>\n",
       "      <td>86.613694</td>\n",
       "      <td>1.0</td>\n",
       "    </tr>\n",
       "    <tr>\n",
       "      <th>True Design</th>\n",
       "      <td>0.320000</td>\n",
       "      <td>0.600000</td>\n",
       "      <td>0.050000</td>\n",
       "      <td>0.090000</td>\n",
       "      <td>406.000000</td>\n",
       "      <td>120.000000</td>\n",
       "      <td>1.06</td>\n",
       "    </tr>\n",
       "    <tr>\n",
       "      <th>True - Inverse</th>\n",
       "      <td>0.011100</td>\n",
       "      <td>0.151896</td>\n",
       "      <td>-0.131939</td>\n",
       "      <td>0.028943</td>\n",
       "      <td>-8.337642</td>\n",
       "      <td>33.386306</td>\n",
       "      <td>N/A</td>\n",
       "    </tr>\n",
       "    <tr>\n",
       "      <th>Percent Difference</th>\n",
       "      <td>3.468805</td>\n",
       "      <td>25.315930</td>\n",
       "      <td>263.877418</td>\n",
       "      <td>32.158834</td>\n",
       "      <td>2.053607</td>\n",
       "      <td>27.821922</td>\n",
       "      <td>N/A</td>\n",
       "    </tr>\n",
       "  </tbody>\n",
       "</table>\n",
       "</div>"
      ],
      "text/plain": [
       "                    Powdered Additive  Base Resin A  Base Resin B  Stabilizer  \\\n",
       "Inverse Design               0.308900      0.448104      0.181939    0.061057   \n",
       "True Design                  0.320000      0.600000      0.050000    0.090000   \n",
       "True - Inverse               0.011100      0.151896     -0.131939    0.028943   \n",
       "Percent Difference           3.468805     25.315930    263.877418   32.158834   \n",
       "\n",
       "                    Temperature  Screw Speed (RPM) Sum Composition  \n",
       "Inverse Design       414.337642          86.613694             1.0  \n",
       "True Design          406.000000         120.000000            1.06  \n",
       "True - Inverse        -8.337642          33.386306             N/A  \n",
       "Percent Difference     2.053607          27.821922             N/A  "
      ]
     },
     "execution_count": 8,
     "metadata": {},
     "output_type": "execute_result"
    }
   ],
   "source": [
    "pos = ret.x\n",
    "\n",
    "Stabilizer = 1 - (pos[0]+pos[1]+pos[2])\n",
    "    \n",
    "pos = np.insert(pos,3,Stabilizer)\n",
    "\n",
    "df = pd.DataFrame(data=pos.reshape(1,-1),\n",
    "                index = ['Inverse Design'],\n",
    "                columns = design)\n",
    "df.loc['True Design'] = X_true\n",
    "dif =  X_true - pos.reshape(-1)\n",
    "df.loc['True - Inverse'] = dif\n",
    "df.loc['Percent Difference'] = np.abs(dif/X_true)*100\n",
    "df['Sum Composition'] = [np.sum(pos.reshape(-1)[0:4]),np.sum(X_true[0:4]),'N/A','N/A']\n",
    "\n",
    "df.to_excel('ANALYSIS/DA_noInitialization_inputs.xlsx')\n",
    "\n",
    "df"
   ]
  },
  {
   "cell_type": "code",
   "execution_count": 9,
   "id": "3d238372",
   "metadata": {
    "scrolled": false
   },
   "outputs": [
    {
     "data": {
      "text/html": [
       "<div>\n",
       "<style scoped>\n",
       "    .dataframe tbody tr th:only-of-type {\n",
       "        vertical-align: middle;\n",
       "    }\n",
       "\n",
       "    .dataframe tbody tr th {\n",
       "        vertical-align: top;\n",
       "    }\n",
       "\n",
       "    .dataframe thead th {\n",
       "        text-align: right;\n",
       "    }\n",
       "</style>\n",
       "<table border=\"1\" class=\"dataframe\">\n",
       "  <thead>\n",
       "    <tr style=\"text-align: right;\">\n",
       "      <th></th>\n",
       "      <th>Toughness (J/m2)</th>\n",
       "      <th>Modulus (GPa)</th>\n",
       "    </tr>\n",
       "  </thead>\n",
       "  <tbody>\n",
       "    <tr>\n",
       "      <th>Inverse Performance</th>\n",
       "      <td>657.453985</td>\n",
       "      <td>5.066972</td>\n",
       "    </tr>\n",
       "    <tr>\n",
       "      <th>True Performance</th>\n",
       "      <td>656.000000</td>\n",
       "      <td>5.100000</td>\n",
       "    </tr>\n",
       "    <tr>\n",
       "      <th>True - Inverse</th>\n",
       "      <td>-1.453985</td>\n",
       "      <td>0.033028</td>\n",
       "    </tr>\n",
       "    <tr>\n",
       "      <th>Percent Difference</th>\n",
       "      <td>0.221644</td>\n",
       "      <td>0.647599</td>\n",
       "    </tr>\n",
       "  </tbody>\n",
       "</table>\n",
       "</div>"
      ],
      "text/plain": [
       "                     Toughness (J/m2)  Modulus (GPa)\n",
       "Inverse Performance        657.453985       5.066972\n",
       "True Performance           656.000000       5.100000\n",
       "True - Inverse              -1.453985       0.033028\n",
       "Percent Difference           0.221644       0.647599"
      ]
     },
     "execution_count": 9,
     "metadata": {},
     "output_type": "execute_result"
    }
   ],
   "source": [
    "pos_scaled = scaler.transform(pos.reshape(1,-1))\n",
    "y_pred_0 = reg_0.predict(pos_scaled)\n",
    "y_pred_1 = reg_1.predict(pos_scaled)\n",
    "y_pred_GPR = pd.DataFrame({performance[0]:y_pred_0,\n",
    "                       performance[1]:y_pred_1\n",
    "                       },index=['Inverse Performance'])\n",
    "\n",
    "y_pred_GPR.loc['True Performance'] = y_true\n",
    "dif = y_pred_GPR.loc['True Performance'] - y_pred_GPR.loc['Inverse Performance']\n",
    "y_pred_GPR.loc['True - Inverse'] = dif\n",
    "y_pred_GPR.loc['Percent Difference'] = np.abs(dif/y_true)*100\n",
    "\n",
    "y_pred_GPR.to_excel('ANALYSIS/DA_noInitialization_outputs.xlsx')\n",
    "\n",
    "y_pred_GPR"
   ]
  },
  {
   "cell_type": "markdown",
   "id": "dd6fecd3",
   "metadata": {},
   "source": [
    "# Dual annealing with initialization"
   ]
  },
  {
   "cell_type": "code",
   "execution_count": 10,
   "id": "1fadb316",
   "metadata": {
    "scrolled": true
   },
   "outputs": [
    {
     "name": "stdout",
     "output_type": "stream",
     "text": [
      "Best Cost = 0.00031209085856768234\n"
     ]
    }
   ],
   "source": [
    "# Initialization\n",
    "init_pos = np.delete(X_true,3)\n",
    "\n",
    "# Set-up Bounds\n",
    "max_bound = [1,1,1,475,121]\n",
    "min_bound = [0,0,0,380,79]\n",
    "\n",
    "# Perform optimization\n",
    "ret = dual_annealing(CostFuncSlack,\n",
    "                    bounds=list(zip(min_bound,max_bound)),\n",
    "                    args = (y_true[0],y_true[1]),\n",
    "                    maxiter = 10_000,\n",
    "                    seed = 1743,\n",
    "                    x0 = init_pos)\n",
    "\n",
    "# pos_unscaled = scaler.inverse_transform(pos.reshape(1,-1))\n",
    "print(f'Best Cost = {ret.fun}')"
   ]
  },
  {
   "cell_type": "code",
   "execution_count": 11,
   "id": "280c5210",
   "metadata": {},
   "outputs": [
    {
     "data": {
      "text/plain": [
       "     fun: 0.00031209085856768234\n",
       " message: ['Maximum number of iteration reached']\n",
       "    nfev: 328021\n",
       "    nhev: 0\n",
       "     nit: 10000\n",
       "    njev: 38002\n",
       "  status: 0\n",
       " success: True\n",
       "       x: array([3.08855114e-01, 4.48092994e-01, 1.82023536e-01, 4.14459256e+02,\n",
       "       8.65483538e+01])"
      ]
     },
     "execution_count": 11,
     "metadata": {},
     "output_type": "execute_result"
    }
   ],
   "source": [
    "ret"
   ]
  },
  {
   "cell_type": "code",
   "execution_count": 12,
   "id": "75f16474",
   "metadata": {},
   "outputs": [
    {
     "data": {
      "text/html": [
       "<div>\n",
       "<style scoped>\n",
       "    .dataframe tbody tr th:only-of-type {\n",
       "        vertical-align: middle;\n",
       "    }\n",
       "\n",
       "    .dataframe tbody tr th {\n",
       "        vertical-align: top;\n",
       "    }\n",
       "\n",
       "    .dataframe thead th {\n",
       "        text-align: right;\n",
       "    }\n",
       "</style>\n",
       "<table border=\"1\" class=\"dataframe\">\n",
       "  <thead>\n",
       "    <tr style=\"text-align: right;\">\n",
       "      <th></th>\n",
       "      <th>Powdered Additive</th>\n",
       "      <th>Base Resin A</th>\n",
       "      <th>Base Resin B</th>\n",
       "      <th>Stabilizer</th>\n",
       "      <th>Temperature</th>\n",
       "      <th>Screw Speed (RPM)</th>\n",
       "      <th>Sum Composition</th>\n",
       "    </tr>\n",
       "  </thead>\n",
       "  <tbody>\n",
       "    <tr>\n",
       "      <th>Inverse Design</th>\n",
       "      <td>0.308855</td>\n",
       "      <td>0.448093</td>\n",
       "      <td>0.182024</td>\n",
       "      <td>0.061028</td>\n",
       "      <td>414.459256</td>\n",
       "      <td>86.548354</td>\n",
       "      <td>1.0</td>\n",
       "    </tr>\n",
       "    <tr>\n",
       "      <th>True Design</th>\n",
       "      <td>0.320000</td>\n",
       "      <td>0.600000</td>\n",
       "      <td>0.050000</td>\n",
       "      <td>0.090000</td>\n",
       "      <td>406.000000</td>\n",
       "      <td>120.000000</td>\n",
       "      <td>1.06</td>\n",
       "    </tr>\n",
       "    <tr>\n",
       "      <th>True - Inverse</th>\n",
       "      <td>0.011145</td>\n",
       "      <td>0.151907</td>\n",
       "      <td>-0.132024</td>\n",
       "      <td>0.028972</td>\n",
       "      <td>-8.459256</td>\n",
       "      <td>33.451646</td>\n",
       "      <td>N/A</td>\n",
       "    </tr>\n",
       "    <tr>\n",
       "      <th>Percent Difference</th>\n",
       "      <td>3.482777</td>\n",
       "      <td>25.317834</td>\n",
       "      <td>264.047072</td>\n",
       "      <td>32.190716</td>\n",
       "      <td>2.083561</td>\n",
       "      <td>27.876372</td>\n",
       "      <td>N/A</td>\n",
       "    </tr>\n",
       "  </tbody>\n",
       "</table>\n",
       "</div>"
      ],
      "text/plain": [
       "                    Powdered Additive  Base Resin A  Base Resin B  Stabilizer  \\\n",
       "Inverse Design               0.308855      0.448093      0.182024    0.061028   \n",
       "True Design                  0.320000      0.600000      0.050000    0.090000   \n",
       "True - Inverse               0.011145      0.151907     -0.132024    0.028972   \n",
       "Percent Difference           3.482777     25.317834    264.047072   32.190716   \n",
       "\n",
       "                    Temperature  Screw Speed (RPM) Sum Composition  \n",
       "Inverse Design       414.459256          86.548354             1.0  \n",
       "True Design          406.000000         120.000000            1.06  \n",
       "True - Inverse        -8.459256          33.451646             N/A  \n",
       "Percent Difference     2.083561          27.876372             N/A  "
      ]
     },
     "execution_count": 12,
     "metadata": {},
     "output_type": "execute_result"
    }
   ],
   "source": [
    "pos = ret.x\n",
    "\n",
    "Stabilizer = 1 - (pos[0]+pos[1]+pos[2])\n",
    "    \n",
    "pos = np.insert(pos,3,Stabilizer)\n",
    "\n",
    "df = pd.DataFrame(data=pos.reshape(1,-1),\n",
    "                index = ['Inverse Design'],\n",
    "                columns = design)\n",
    "df.loc['True Design'] = X_true\n",
    "dif =  X_true - pos.reshape(-1)\n",
    "df.loc['True - Inverse'] = dif\n",
    "df.loc['Percent Difference'] = np.abs(dif/X_true)*100\n",
    "df['Sum Composition'] = [np.sum(pos.reshape(-1)[0:4]),np.sum(X_true[0:4]),'N/A','N/A']\n",
    "\n",
    "df.to_excel('ANALYSIS/DA_yesInitialization_inputs.xlsx')\n",
    "\n",
    "df"
   ]
  },
  {
   "cell_type": "code",
   "execution_count": 13,
   "id": "9bd70aa5",
   "metadata": {
    "scrolled": false
   },
   "outputs": [
    {
     "data": {
      "text/html": [
       "<div>\n",
       "<style scoped>\n",
       "    .dataframe tbody tr th:only-of-type {\n",
       "        vertical-align: middle;\n",
       "    }\n",
       "\n",
       "    .dataframe tbody tr th {\n",
       "        vertical-align: top;\n",
       "    }\n",
       "\n",
       "    .dataframe thead th {\n",
       "        text-align: right;\n",
       "    }\n",
       "</style>\n",
       "<table border=\"1\" class=\"dataframe\">\n",
       "  <thead>\n",
       "    <tr style=\"text-align: right;\">\n",
       "      <th></th>\n",
       "      <th>Toughness (J/m2)</th>\n",
       "      <th>Modulus (GPa)</th>\n",
       "    </tr>\n",
       "  </thead>\n",
       "  <tbody>\n",
       "    <tr>\n",
       "      <th>Inverse Performance</th>\n",
       "      <td>657.636987</td>\n",
       "      <td>5.067889</td>\n",
       "    </tr>\n",
       "    <tr>\n",
       "      <th>True Performance</th>\n",
       "      <td>656.000000</td>\n",
       "      <td>5.100000</td>\n",
       "    </tr>\n",
       "    <tr>\n",
       "      <th>True - Inverse</th>\n",
       "      <td>-1.636987</td>\n",
       "      <td>0.032111</td>\n",
       "    </tr>\n",
       "    <tr>\n",
       "      <th>Percent Difference</th>\n",
       "      <td>0.249541</td>\n",
       "      <td>0.629624</td>\n",
       "    </tr>\n",
       "  </tbody>\n",
       "</table>\n",
       "</div>"
      ],
      "text/plain": [
       "                     Toughness (J/m2)  Modulus (GPa)\n",
       "Inverse Performance        657.636987       5.067889\n",
       "True Performance           656.000000       5.100000\n",
       "True - Inverse              -1.636987       0.032111\n",
       "Percent Difference           0.249541       0.629624"
      ]
     },
     "execution_count": 13,
     "metadata": {},
     "output_type": "execute_result"
    }
   ],
   "source": [
    "pos_scaled = scaler.transform(pos.reshape(1,-1))\n",
    "y_pred_0 = reg_0.predict(pos_scaled)\n",
    "y_pred_1 = reg_1.predict(pos_scaled)\n",
    "y_pred_GPR = pd.DataFrame({performance[0]:y_pred_0,\n",
    "                       performance[1]:y_pred_1\n",
    "                       },index=['Inverse Performance'])\n",
    "\n",
    "y_pred_GPR.loc['True Performance'] = y_true\n",
    "dif = y_pred_GPR.loc['True Performance'] - y_pred_GPR.loc['Inverse Performance']\n",
    "y_pred_GPR.loc['True - Inverse'] = dif\n",
    "y_pred_GPR.loc['Percent Difference'] = np.abs(dif/y_true)*100\n",
    "\n",
    "y_pred_GPR.to_excel('ANALYSIS/DA_yesInitialization_outputs.xlsx')\n",
    "\n",
    "y_pred_GPR"
   ]
  }
 ],
 "metadata": {
  "kernelspec": {
   "display_name": "Python 3 (ipykernel)",
   "language": "python",
   "name": "python3"
  },
  "language_info": {
   "codemirror_mode": {
    "name": "ipython",
    "version": 3
   },
   "file_extension": ".py",
   "mimetype": "text/x-python",
   "name": "python",
   "nbconvert_exporter": "python",
   "pygments_lexer": "ipython3",
   "version": "3.9.7"
  }
 },
 "nbformat": 4,
 "nbformat_minor": 5
}
